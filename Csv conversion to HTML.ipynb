{
 "cells": [
  {
   "cell_type": "code",
   "execution_count": 1,
   "metadata": {},
   "outputs": [],
   "source": [
    "import pandas as pd"
   ]
  },
  {
   "cell_type": "code",
   "execution_count": 2,
   "metadata": {},
   "outputs": [
    {
     "data": {
      "text/html": [
       "<div>\n",
       "<style scoped>\n",
       "    .dataframe tbody tr th:only-of-type {\n",
       "        vertical-align: middle;\n",
       "    }\n",
       "\n",
       "    .dataframe tbody tr th {\n",
       "        vertical-align: top;\n",
       "    }\n",
       "\n",
       "    .dataframe thead th {\n",
       "        text-align: right;\n",
       "    }\n",
       "</style>\n",
       "<table border=\"1\" class=\"dataframe\">\n",
       "  <thead>\n",
       "    <tr style=\"text-align: right;\">\n",
       "      <th></th>\n",
       "      <th>City_ID</th>\n",
       "      <th>City</th>\n",
       "      <th>Cloudiness</th>\n",
       "      <th>Country</th>\n",
       "      <th>Date</th>\n",
       "      <th>Humidity</th>\n",
       "      <th>Lat</th>\n",
       "      <th>Lng</th>\n",
       "      <th>Max Temp</th>\n",
       "      <th>Wind Speed</th>\n",
       "    </tr>\n",
       "  </thead>\n",
       "  <tbody>\n",
       "    <tr>\n",
       "      <th>0</th>\n",
       "      <td>0</td>\n",
       "      <td>longyearbyen</td>\n",
       "      <td>75</td>\n",
       "      <td>SJ</td>\n",
       "      <td>1483588200</td>\n",
       "      <td>73</td>\n",
       "      <td>78.22</td>\n",
       "      <td>15.64</td>\n",
       "      <td>26.6</td>\n",
       "      <td>19.46</td>\n",
       "    </tr>\n",
       "    <tr>\n",
       "      <th>1</th>\n",
       "      <td>1</td>\n",
       "      <td>asau</td>\n",
       "      <td>0</td>\n",
       "      <td>RO</td>\n",
       "      <td>1483592400</td>\n",
       "      <td>59</td>\n",
       "      <td>46.43</td>\n",
       "      <td>26.40</td>\n",
       "      <td>37.4</td>\n",
       "      <td>14.99</td>\n",
       "    </tr>\n",
       "    <tr>\n",
       "      <th>2</th>\n",
       "      <td>2</td>\n",
       "      <td>hartselle</td>\n",
       "      <td>1</td>\n",
       "      <td>US</td>\n",
       "      <td>1483592280</td>\n",
       "      <td>86</td>\n",
       "      <td>34.44</td>\n",
       "      <td>-86.94</td>\n",
       "      <td>32.0</td>\n",
       "      <td>3.36</td>\n",
       "    </tr>\n",
       "    <tr>\n",
       "      <th>3</th>\n",
       "      <td>3</td>\n",
       "      <td>komsomolskiy</td>\n",
       "      <td>40</td>\n",
       "      <td>UZ</td>\n",
       "      <td>1483592400</td>\n",
       "      <td>80</td>\n",
       "      <td>40.43</td>\n",
       "      <td>71.72</td>\n",
       "      <td>37.4</td>\n",
       "      <td>3.36</td>\n",
       "    </tr>\n",
       "    <tr>\n",
       "      <th>4</th>\n",
       "      <td>4</td>\n",
       "      <td>kapaa</td>\n",
       "      <td>90</td>\n",
       "      <td>US</td>\n",
       "      <td>1483592160</td>\n",
       "      <td>88</td>\n",
       "      <td>22.08</td>\n",
       "      <td>-159.32</td>\n",
       "      <td>71.6</td>\n",
       "      <td>17.22</td>\n",
       "    </tr>\n",
       "  </tbody>\n",
       "</table>\n",
       "</div>"
      ],
      "text/plain": [
       "   City_ID          City  Cloudiness Country        Date  Humidity    Lat  \\\n",
       "0        0  longyearbyen          75      SJ  1483588200        73  78.22   \n",
       "1        1          asau           0      RO  1483592400        59  46.43   \n",
       "2        2     hartselle           1      US  1483592280        86  34.44   \n",
       "3        3  komsomolskiy          40      UZ  1483592400        80  40.43   \n",
       "4        4         kapaa          90      US  1483592160        88  22.08   \n",
       "\n",
       "      Lng  Max Temp  Wind Speed  \n",
       "0   15.64      26.6       19.46  \n",
       "1   26.40      37.4       14.99  \n",
       "2  -86.94      32.0        3.36  \n",
       "3   71.72      37.4        3.36  \n",
       "4 -159.32      71.6       17.22  "
      ]
     },
     "execution_count": 2,
     "metadata": {},
     "output_type": "execute_result"
    }
   ],
   "source": [
    "df = pd.read_csv('assets/cities.csv')\n",
    "df.head()"
   ]
  },
  {
   "cell_type": "code",
   "execution_count": 3,
   "metadata": {},
   "outputs": [],
   "source": [
    "html_table = df.to_html()\n",
    "#html_table"
   ]
  },
  {
   "cell_type": "code",
   "execution_count": 4,
   "metadata": {},
   "outputs": [],
   "source": [
    "df.to_html('datatable.html')"
   ]
  }
 ],
 "metadata": {
  "kernelspec": {
   "display_name": "Python 3",
   "language": "python",
   "name": "python3"
  },
  "language_info": {
   "codemirror_mode": {
    "name": "ipython",
    "version": 3
   },
   "file_extension": ".py",
   "mimetype": "text/x-python",
   "name": "python",
   "nbconvert_exporter": "python",
   "pygments_lexer": "ipython3",
   "version": "3.6.5"
  }
 },
 "nbformat": 4,
 "nbformat_minor": 2
}
